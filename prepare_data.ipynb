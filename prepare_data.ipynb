{
 "cells": [
  {
   "attachments": {},
   "cell_type": "markdown",
   "metadata": {},
   "source": [
    "# Prepare the dataset\n",
    "\n",
    "<!--- @wandbcode{pis_course} -->\n",
    "\n",
    "In this notebook we will prepare the dataset for the model. You will first need to download the lemon dataset:\n",
    "\n",
    "```bash\n",
    "$ git clone -qq https://github.com/softwaremill/lemon-dataset.git\n",
    "$ unzip -q lemon-dataset/data/lemon-dataset.zip\n",
    "```\n",
    "    \n",
    "Then you can run this notebook to prepare the dataset as an artifact and upload it to W&B."
   ]
  },
  {
   "cell_type": "code",
   "execution_count": 3,
   "metadata": {},
   "outputs": [],
   "source": [
    "# import the necessary packages\n",
    "import json\n",
    "from pathlib import Path\n",
    "\n",
    "import pandas as pd\n",
    "from sklearn.model_selection import StratifiedGroupKFold\n",
    "\n",
    "import params\n",
    "import wandb"
   ]
  },
  {
   "attachments": {},
   "cell_type": "markdown",
   "metadata": {},
   "source": [
    "start with a new wandb run"
   ]
  },
  {
   "cell_type": "code",
   "execution_count": 4,
   "metadata": {},
   "outputs": [
    {
     "data": {
      "text/html": [
       "Finishing last run (ID:o6z7798y) before initializing another..."
      ],
      "text/plain": [
       "<IPython.core.display.HTML object>"
      ]
     },
     "metadata": {},
     "output_type": "display_data"
    },
    {
     "data": {
      "text/html": [
       "Waiting for W&B process to finish... <strong style=\"color:green\">(success).</strong>"
      ],
      "text/plain": [
       "<IPython.core.display.HTML object>"
      ]
     },
     "metadata": {},
     "output_type": "display_data"
    },
    {
     "data": {
      "text/html": [
       " View run <strong style=\"color:#cdcd00\">kind-puddle-1</strong> at: <a href='https://wandb.ai/rca-dev/pis_course/runs/o6z7798y' target=\"_blank\">https://wandb.ai/rca-dev/pis_course/runs/o6z7798y</a><br/>Synced 4 W&B file(s), 0 media file(s), 0 artifact file(s) and 0 other file(s)"
      ],
      "text/plain": [
       "<IPython.core.display.HTML object>"
      ]
     },
     "metadata": {},
     "output_type": "display_data"
    },
    {
     "data": {
      "text/html": [
       "Find logs at: <code>.\\wandb\\run-20231007_164145-o6z7798y\\logs</code>"
      ],
      "text/plain": [
       "<IPython.core.display.HTML object>"
      ]
     },
     "metadata": {},
     "output_type": "display_data"
    },
    {
     "data": {
      "text/html": [
       "Successfully finished last run (ID:o6z7798y). Initializing new run:<br/>"
      ],
      "text/plain": [
       "<IPython.core.display.HTML object>"
      ]
     },
     "metadata": {},
     "output_type": "display_data"
    },
    {
     "data": {
      "text/html": [
       "wandb version 0.15.12 is available!  To upgrade, please run:\n",
       " $ pip install wandb --upgrade"
      ],
      "text/plain": [
       "<IPython.core.display.HTML object>"
      ]
     },
     "metadata": {},
     "output_type": "display_data"
    },
    {
     "data": {
      "text/html": [
       "Tracking run with wandb version 0.15.11"
      ],
      "text/plain": [
       "<IPython.core.display.HTML object>"
      ]
     },
     "metadata": {},
     "output_type": "display_data"
    },
    {
     "data": {
      "text/html": [
       "Run data is saved locally in <code>c:\\Users\\renan\\source\\repos\\pyimagesearch-mlops-with-weights-biases\\wandb\\run-20231007_164914-idmojgi5</code>"
      ],
      "text/plain": [
       "<IPython.core.display.HTML object>"
      ]
     },
     "metadata": {},
     "output_type": "display_data"
    },
    {
     "data": {
      "text/html": [
       "Syncing run <strong><a href='https://wandb.ai/rca-dev/pis_course/runs/idmojgi5' target=\"_blank\">effortless-haze-3</a></strong> to <a href='https://wandb.ai/rca-dev/pis_course' target=\"_blank\">Weights & Biases</a> (<a href='https://wandb.me/run' target=\"_blank\">docs</a>)<br/>"
      ],
      "text/plain": [
       "<IPython.core.display.HTML object>"
      ]
     },
     "metadata": {},
     "output_type": "display_data"
    },
    {
     "data": {
      "text/html": [
       " View project at <a href='https://wandb.ai/rca-dev/pis_course' target=\"_blank\">https://wandb.ai/rca-dev/pis_course</a>"
      ],
      "text/plain": [
       "<IPython.core.display.HTML object>"
      ]
     },
     "metadata": {},
     "output_type": "display_data"
    },
    {
     "data": {
      "text/html": [
       " View run at <a href='https://wandb.ai/rca-dev/pis_course/runs/idmojgi5' target=\"_blank\">https://wandb.ai/rca-dev/pis_course/runs/idmojgi5</a>"
      ],
      "text/plain": [
       "<IPython.core.display.HTML object>"
      ]
     },
     "metadata": {},
     "output_type": "display_data"
    }
   ],
   "source": [
    "run = wandb.init(\n",
    "    project=params.PROJECT_NAME, entity=params.ENTITY, job_type=\"data_prep\")"
   ]
  },
  {
   "cell_type": "markdown",
   "metadata": {},
   "source": [
    "get the path to the raw data folder"
   ]
  },
  {
   "cell_type": "code",
   "execution_count": 5,
   "metadata": {},
   "outputs": [],
   "source": [
    "raw_data_folder = Path(params.RAW_DATA_FOLDER)\n",
    "images_folder = raw_data_folder / params.IMAGES_FOLDER\n",
    "annotations_file = raw_data_folder / params.ANNOTATIONS_FILE"
   ]
  },
  {
   "cell_type": "markdown",
   "metadata": {},
   "source": [
    "create a new artifact to store the dataset"
   ]
  },
  {
   "cell_type": "code",
   "execution_count": 6,
   "metadata": {},
   "outputs": [
    {
     "name": "stderr",
     "output_type": "stream",
     "text": [
      "\u001b[34m\u001b[1mwandb\u001b[0m: Adding directory to artifact (.\\lemon-dataset\\images)... Done. 1.8s\n"
     ]
    },
    {
     "data": {
      "text/plain": [
       "ArtifactManifestEntry(path='annotations/instances_default.json', digest='1mcsrBLiFwep9+prlDhEtw==', size=41537226, local_path='C:\\\\Users\\\\renan\\\\AppData\\\\Local\\\\wandb\\\\wandb\\\\artifacts\\\\staging\\\\tmp9getx6jv')"
      ]
     },
     "execution_count": 6,
     "metadata": {},
     "output_type": "execute_result"
    }
   ],
   "source": [
    "dataset_artifact = wandb.Artifact(params.ARTIFACT_NAME, type=\"dataset\")\n",
    "dataset_artifact.add_dir(images_folder, name=params.IMAGES_FOLDER)\n",
    "dataset_artifact.add_file(annotations_file, name=params.ANNOTATIONS_FILE)"
   ]
  },
  {
   "cell_type": "markdown",
   "metadata": {},
   "source": [
    "\n",
    "read annotations data and convert it to dataframes"
   ]
  },
  {
   "cell_type": "code",
   "execution_count": 7,
   "metadata": {},
   "outputs": [],
   "source": [
    "data = json.load(open(annotations_file, mode=\"r\", encoding=\"utf-8\"))\n",
    "annotations = pd.DataFrame.from_dict(data[\"annotations\"])\n",
    "images = pd.DataFrame.from_dict(data[\"images\"])"
   ]
  },
  {
   "cell_type": "code",
   "execution_count": 8,
   "metadata": {},
   "outputs": [
    {
     "data": {
      "text/html": [
       "<div>\n",
       "<style scoped>\n",
       "    .dataframe tbody tr th:only-of-type {\n",
       "        vertical-align: middle;\n",
       "    }\n",
       "\n",
       "    .dataframe tbody tr th {\n",
       "        vertical-align: top;\n",
       "    }\n",
       "\n",
       "    .dataframe thead th {\n",
       "        text-align: right;\n",
       "    }\n",
       "</style>\n",
       "<table border=\"1\" class=\"dataframe\">\n",
       "  <thead>\n",
       "    <tr style=\"text-align: right;\">\n",
       "      <th></th>\n",
       "      <th>id</th>\n",
       "      <th>iscrowd</th>\n",
       "      <th>area</th>\n",
       "      <th>category_id</th>\n",
       "      <th>image_id</th>\n",
       "      <th>segmentation</th>\n",
       "      <th>bbox</th>\n",
       "    </tr>\n",
       "  </thead>\n",
       "  <tbody>\n",
       "    <tr>\n",
       "      <th>0</th>\n",
       "      <td>1</td>\n",
       "      <td>0</td>\n",
       "      <td>539.0</td>\n",
       "      <td>9</td>\n",
       "      <td>0</td>\n",
       "      <td>[[179.15200000000914, 641.3920000000107, 179.0...</td>\n",
       "      <td>[157.40800000001036, 603.6640000000098, 27.215...</td>\n",
       "    </tr>\n",
       "    <tr>\n",
       "      <th>1</th>\n",
       "      <td>2</td>\n",
       "      <td>0</td>\n",
       "      <td>622.0</td>\n",
       "      <td>5</td>\n",
       "      <td>0</td>\n",
       "      <td>[[411.404296875, 458.1650390625, 403.939548160...</td>\n",
       "      <td>[398.2661785600103, 422.66166784001143, 29.561...</td>\n",
       "    </tr>\n",
       "    <tr>\n",
       "      <th>2</th>\n",
       "      <td>3</td>\n",
       "      <td>0</td>\n",
       "      <td>809.0</td>\n",
       "      <td>5</td>\n",
       "      <td>0</td>\n",
       "      <td>[[299.818359375, 442.6376953125, 293.547719680...</td>\n",
       "      <td>[291.15893248000975, 431.8883584000105, 39.414...</td>\n",
       "    </tr>\n",
       "    <tr>\n",
       "      <th>3</th>\n",
       "      <td>4</td>\n",
       "      <td>0</td>\n",
       "      <td>30.0</td>\n",
       "      <td>5</td>\n",
       "      <td>100</td>\n",
       "      <td>[[311.98046875, 494.6767578125, 308.9262595362...</td>\n",
       "      <td>[308.92625953626884, 494.6767578125, 6.2998631...</td>\n",
       "    </tr>\n",
       "    <tr>\n",
       "      <th>4</th>\n",
       "      <td>5</td>\n",
       "      <td>0</td>\n",
       "      <td>31.0</td>\n",
       "      <td>2</td>\n",
       "      <td>100</td>\n",
       "      <td>[[606.7744140625, 489.2041015625, 602.81602149...</td>\n",
       "      <td>[602.8160214904838, 489.2041015625, 7.58732610...</td>\n",
       "    </tr>\n",
       "  </tbody>\n",
       "</table>\n",
       "</div>"
      ],
      "text/plain": [
       "   id  iscrowd   area  category_id  image_id  \\\n",
       "0   1        0  539.0            9         0   \n",
       "1   2        0  622.0            5         0   \n",
       "2   3        0  809.0            5         0   \n",
       "3   4        0   30.0            5       100   \n",
       "4   5        0   31.0            2       100   \n",
       "\n",
       "                                        segmentation  \\\n",
       "0  [[179.15200000000914, 641.3920000000107, 179.0...   \n",
       "1  [[411.404296875, 458.1650390625, 403.939548160...   \n",
       "2  [[299.818359375, 442.6376953125, 293.547719680...   \n",
       "3  [[311.98046875, 494.6767578125, 308.9262595362...   \n",
       "4  [[606.7744140625, 489.2041015625, 602.81602149...   \n",
       "\n",
       "                                                bbox  \n",
       "0  [157.40800000001036, 603.6640000000098, 27.215...  \n",
       "1  [398.2661785600103, 422.66166784001143, 29.561...  \n",
       "2  [291.15893248000975, 431.8883584000105, 39.414...  \n",
       "3  [308.92625953626884, 494.6767578125, 6.2998631...  \n",
       "4  [602.8160214904838, 489.2041015625, 7.58732610...  "
      ]
     },
     "execution_count": 8,
     "metadata": {},
     "output_type": "execute_result"
    }
   ],
   "source": [
    "annotations.head()"
   ]
  },
  {
   "cell_type": "code",
   "execution_count": 9,
   "metadata": {},
   "outputs": [
    {
     "data": {
      "text/html": [
       "<div>\n",
       "<style scoped>\n",
       "    .dataframe tbody tr th:only-of-type {\n",
       "        vertical-align: middle;\n",
       "    }\n",
       "\n",
       "    .dataframe tbody tr th {\n",
       "        vertical-align: top;\n",
       "    }\n",
       "\n",
       "    .dataframe thead th {\n",
       "        text-align: right;\n",
       "    }\n",
       "</style>\n",
       "<table border=\"1\" class=\"dataframe\">\n",
       "  <thead>\n",
       "    <tr style=\"text-align: right;\">\n",
       "      <th></th>\n",
       "      <th>id</th>\n",
       "      <th>date_captured</th>\n",
       "      <th>coco_url</th>\n",
       "      <th>file_name</th>\n",
       "      <th>license</th>\n",
       "      <th>flickr_url</th>\n",
       "      <th>height</th>\n",
       "      <th>width</th>\n",
       "    </tr>\n",
       "  </thead>\n",
       "  <tbody>\n",
       "    <tr>\n",
       "      <th>0</th>\n",
       "      <td>0</td>\n",
       "      <td>0</td>\n",
       "      <td></td>\n",
       "      <td>images/0001_A_H_0_A.jpg</td>\n",
       "      <td>0</td>\n",
       "      <td></td>\n",
       "      <td>1056</td>\n",
       "      <td>1056</td>\n",
       "    </tr>\n",
       "    <tr>\n",
       "      <th>1</th>\n",
       "      <td>100</td>\n",
       "      <td>0</td>\n",
       "      <td></td>\n",
       "      <td>images/0003_A_V_150_A.jpg</td>\n",
       "      <td>0</td>\n",
       "      <td></td>\n",
       "      <td>1056</td>\n",
       "      <td>1056</td>\n",
       "    </tr>\n",
       "    <tr>\n",
       "      <th>2</th>\n",
       "      <td>101</td>\n",
       "      <td>0</td>\n",
       "      <td></td>\n",
       "      <td>images/0003_A_V_15_A.jpg</td>\n",
       "      <td>0</td>\n",
       "      <td></td>\n",
       "      <td>1056</td>\n",
       "      <td>1056</td>\n",
       "    </tr>\n",
       "    <tr>\n",
       "      <th>3</th>\n",
       "      <td>102</td>\n",
       "      <td>0</td>\n",
       "      <td></td>\n",
       "      <td>images/0003_A_V_165_A.jpg</td>\n",
       "      <td>0</td>\n",
       "      <td></td>\n",
       "      <td>1056</td>\n",
       "      <td>1056</td>\n",
       "    </tr>\n",
       "    <tr>\n",
       "      <th>4</th>\n",
       "      <td>103</td>\n",
       "      <td>0</td>\n",
       "      <td></td>\n",
       "      <td>images/0003_A_V_30_A.jpg</td>\n",
       "      <td>0</td>\n",
       "      <td></td>\n",
       "      <td>1056</td>\n",
       "      <td>1056</td>\n",
       "    </tr>\n",
       "  </tbody>\n",
       "</table>\n",
       "</div>"
      ],
      "text/plain": [
       "    id  date_captured coco_url                  file_name  license flickr_url  \\\n",
       "0    0              0             images/0001_A_H_0_A.jpg        0              \n",
       "1  100              0           images/0003_A_V_150_A.jpg        0              \n",
       "2  101              0            images/0003_A_V_15_A.jpg        0              \n",
       "3  102              0           images/0003_A_V_165_A.jpg        0              \n",
       "4  103              0            images/0003_A_V_30_A.jpg        0              \n",
       "\n",
       "   height  width  \n",
       "0    1056   1056  \n",
       "1    1056   1056  \n",
       "2    1056   1056  \n",
       "3    1056   1056  \n",
       "4    1056   1056  "
      ]
     },
     "execution_count": 9,
     "metadata": {},
     "output_type": "execute_result"
    }
   ],
   "source": [
    "images.head()"
   ]
  },
  {
   "cell_type": "markdown",
   "metadata": {},
   "source": [
    "\n",
    "wrangle data to give us a binary classification target and fruit ids based on our EDA\n"
   ]
  },
  {
   "cell_type": "code",
   "execution_count": 10,
   "metadata": {},
   "outputs": [],
   "source": [
    "df = (\n",
    "    annotations[[\"image_id\", \"category_id\"]]\n",
    "    .groupby(\"image_id\")[\"category_id\"]\n",
    "    .apply(lambda x: list(set(x)))\n",
    "    .reset_index()\n",
    ")\n",
    "df[\"mold\"] = df[\"category_id\"].apply(lambda x: 4 in x)\n",
    "df = pd.merge(df, images[[\"id\", \"file_name\"]], left_on=\"image_id\", right_on=\"id\")\n",
    "del df[\"id\"]\n",
    "df[\"fruit_id\"] = df[\"file_name\"].apply(lambda x: x.split(\"/\")[1].split(\"_\")[0])"
   ]
  },
  {
   "cell_type": "code",
   "execution_count": 11,
   "metadata": {},
   "outputs": [
    {
     "data": {
      "text/html": [
       "<div>\n",
       "<style scoped>\n",
       "    .dataframe tbody tr th:only-of-type {\n",
       "        vertical-align: middle;\n",
       "    }\n",
       "\n",
       "    .dataframe tbody tr th {\n",
       "        vertical-align: top;\n",
       "    }\n",
       "\n",
       "    .dataframe thead th {\n",
       "        text-align: right;\n",
       "    }\n",
       "</style>\n",
       "<table border=\"1\" class=\"dataframe\">\n",
       "  <thead>\n",
       "    <tr style=\"text-align: right;\">\n",
       "      <th></th>\n",
       "      <th>image_id</th>\n",
       "      <th>category_id</th>\n",
       "      <th>mold</th>\n",
       "      <th>file_name</th>\n",
       "      <th>fruit_id</th>\n",
       "    </tr>\n",
       "  </thead>\n",
       "  <tbody>\n",
       "    <tr>\n",
       "      <th>0</th>\n",
       "      <td>0</td>\n",
       "      <td>[9, 5]</td>\n",
       "      <td>False</td>\n",
       "      <td>images/0001_A_H_0_A.jpg</td>\n",
       "      <td>0001</td>\n",
       "    </tr>\n",
       "    <tr>\n",
       "      <th>1</th>\n",
       "      <td>100</td>\n",
       "      <td>[2, 5, 7]</td>\n",
       "      <td>False</td>\n",
       "      <td>images/0003_A_V_150_A.jpg</td>\n",
       "      <td>0003</td>\n",
       "    </tr>\n",
       "    <tr>\n",
       "      <th>2</th>\n",
       "      <td>101</td>\n",
       "      <td>[9, 2, 5]</td>\n",
       "      <td>False</td>\n",
       "      <td>images/0003_A_V_15_A.jpg</td>\n",
       "      <td>0003</td>\n",
       "    </tr>\n",
       "    <tr>\n",
       "      <th>3</th>\n",
       "      <td>102</td>\n",
       "      <td>[2, 5, 7]</td>\n",
       "      <td>False</td>\n",
       "      <td>images/0003_A_V_165_A.jpg</td>\n",
       "      <td>0003</td>\n",
       "    </tr>\n",
       "    <tr>\n",
       "      <th>4</th>\n",
       "      <td>103</td>\n",
       "      <td>[9, 5]</td>\n",
       "      <td>False</td>\n",
       "      <td>images/0003_A_V_30_A.jpg</td>\n",
       "      <td>0003</td>\n",
       "    </tr>\n",
       "  </tbody>\n",
       "</table>\n",
       "</div>"
      ],
      "text/plain": [
       "   image_id category_id   mold                  file_name fruit_id\n",
       "0         0      [9, 5]  False    images/0001_A_H_0_A.jpg     0001\n",
       "1       100   [2, 5, 7]  False  images/0003_A_V_150_A.jpg     0003\n",
       "2       101   [9, 2, 5]  False   images/0003_A_V_15_A.jpg     0003\n",
       "3       102   [2, 5, 7]  False  images/0003_A_V_165_A.jpg     0003\n",
       "4       103      [9, 5]  False   images/0003_A_V_30_A.jpg     0003"
      ]
     },
     "execution_count": 11,
     "metadata": {},
     "output_type": "execute_result"
    }
   ],
   "source": [
    "df.head()"
   ]
  },
  {
   "cell_type": "markdown",
   "metadata": {},
   "source": [
    "## TRAIN / VALIDATION / TEST SPLIT"
   ]
  },
  {
   "attachments": {},
   "cell_type": "markdown",
   "metadata": {},
   "source": [
    "Let's use scikit-learn to split our data into train, validation, and test sets. We'll use stratified group k-fold cross-validation to ensure that our train, validation, and test sets are representative of the entire dataset.\n",
    "\n",
    "This technique is useful when we have a small dataset and we want to ensure that our train, validation, and test sets are representative of the entire dataset. We'll use 10 folds, which means that we'll have 10 different train, validation, and test sets. We'll use the first fold as our test set, the second fold as our validation set, and the remaining 8 folds as our training set."
   ]
  },
  {
   "cell_type": "code",
   "execution_count": 12,
   "metadata": {},
   "outputs": [
    {
     "name": "stderr",
     "output_type": "stream",
     "text": [
      "C:\\Users\\renan\\AppData\\Local\\Temp\\ipykernel_35136\\1172650331.py:8: SettingWithCopyWarning: \n",
      "A value is trying to be set on a copy of a slice from a DataFrame\n",
      "\n",
      "See the caveats in the documentation: https://pandas.pydata.org/pandas-docs/stable/user_guide/indexing.html#returning-a-view-versus-a-copy\n",
      "  df[\"fold\"].iloc[test_idxs] = i\n",
      "C:\\Users\\renan\\AppData\\Local\\Temp\\ipykernel_35136\\1172650331.py:8: SettingWithCopyWarning: \n",
      "A value is trying to be set on a copy of a slice from a DataFrame\n",
      "\n",
      "See the caveats in the documentation: https://pandas.pydata.org/pandas-docs/stable/user_guide/indexing.html#returning-a-view-versus-a-copy\n",
      "  df[\"fold\"].iloc[test_idxs] = i\n",
      "C:\\Users\\renan\\AppData\\Local\\Temp\\ipykernel_35136\\1172650331.py:8: SettingWithCopyWarning: \n",
      "A value is trying to be set on a copy of a slice from a DataFrame\n",
      "\n",
      "See the caveats in the documentation: https://pandas.pydata.org/pandas-docs/stable/user_guide/indexing.html#returning-a-view-versus-a-copy\n",
      "  df[\"fold\"].iloc[test_idxs] = i\n",
      "C:\\Users\\renan\\AppData\\Local\\Temp\\ipykernel_35136\\1172650331.py:8: SettingWithCopyWarning: \n",
      "A value is trying to be set on a copy of a slice from a DataFrame\n",
      "\n",
      "See the caveats in the documentation: https://pandas.pydata.org/pandas-docs/stable/user_guide/indexing.html#returning-a-view-versus-a-copy\n",
      "  df[\"fold\"].iloc[test_idxs] = i\n",
      "C:\\Users\\renan\\AppData\\Local\\Temp\\ipykernel_35136\\1172650331.py:8: SettingWithCopyWarning: \n",
      "A value is trying to be set on a copy of a slice from a DataFrame\n",
      "\n",
      "See the caveats in the documentation: https://pandas.pydata.org/pandas-docs/stable/user_guide/indexing.html#returning-a-view-versus-a-copy\n",
      "  df[\"fold\"].iloc[test_idxs] = i\n",
      "C:\\Users\\renan\\AppData\\Local\\Temp\\ipykernel_35136\\1172650331.py:8: SettingWithCopyWarning: \n",
      "A value is trying to be set on a copy of a slice from a DataFrame\n",
      "\n",
      "See the caveats in the documentation: https://pandas.pydata.org/pandas-docs/stable/user_guide/indexing.html#returning-a-view-versus-a-copy\n",
      "  df[\"fold\"].iloc[test_idxs] = i\n",
      "C:\\Users\\renan\\AppData\\Local\\Temp\\ipykernel_35136\\1172650331.py:8: SettingWithCopyWarning: \n",
      "A value is trying to be set on a copy of a slice from a DataFrame\n",
      "\n",
      "See the caveats in the documentation: https://pandas.pydata.org/pandas-docs/stable/user_guide/indexing.html#returning-a-view-versus-a-copy\n",
      "  df[\"fold\"].iloc[test_idxs] = i\n",
      "C:\\Users\\renan\\AppData\\Local\\Temp\\ipykernel_35136\\1172650331.py:8: SettingWithCopyWarning: \n",
      "A value is trying to be set on a copy of a slice from a DataFrame\n",
      "\n",
      "See the caveats in the documentation: https://pandas.pydata.org/pandas-docs/stable/user_guide/indexing.html#returning-a-view-versus-a-copy\n",
      "  df[\"fold\"].iloc[test_idxs] = i\n",
      "C:\\Users\\renan\\AppData\\Local\\Temp\\ipykernel_35136\\1172650331.py:8: SettingWithCopyWarning: \n",
      "A value is trying to be set on a copy of a slice from a DataFrame\n",
      "\n",
      "See the caveats in the documentation: https://pandas.pydata.org/pandas-docs/stable/user_guide/indexing.html#returning-a-view-versus-a-copy\n",
      "  df[\"fold\"].iloc[test_idxs] = i\n",
      "C:\\Users\\renan\\AppData\\Local\\Temp\\ipykernel_35136\\1172650331.py:8: SettingWithCopyWarning: \n",
      "A value is trying to be set on a copy of a slice from a DataFrame\n",
      "\n",
      "See the caveats in the documentation: https://pandas.pydata.org/pandas-docs/stable/user_guide/indexing.html#returning-a-view-versus-a-copy\n",
      "  df[\"fold\"].iloc[test_idxs] = i\n"
     ]
    }
   ],
   "source": [
    "\n",
    "df[\"fold\"] = -1\n",
    "X = df.index.values\n",
    "y = df.mold.values  # stratify by our target column\n",
    "groups = df.fruit_id.values  # group individual fruit to avoid leakage\n",
    "\n",
    "cv = StratifiedGroupKFold(n_splits=10, random_state=42, shuffle=True)\n",
    "for i, (_, test_idxs) in enumerate(cv.split(X, y, groups)):\n",
    "    df[\"fold\"].iloc[test_idxs] = i\n",
    "\n",
    "df[\"stage\"] = df[\"fold\"].apply(\n",
    "    lambda x: \"test\" if x == 0 else (\"valid\" if x == 1 else \"train\")\n",
    ")\n",
    "df.to_csv(\"data_split.csv\", index=False)"
   ]
  },
  {
   "cell_type": "code",
   "execution_count": 13,
   "metadata": {},
   "outputs": [
    {
     "data": {
      "text/html": [
       "<div>\n",
       "<style scoped>\n",
       "    .dataframe tbody tr th:only-of-type {\n",
       "        vertical-align: middle;\n",
       "    }\n",
       "\n",
       "    .dataframe tbody tr th {\n",
       "        vertical-align: top;\n",
       "    }\n",
       "\n",
       "    .dataframe thead th {\n",
       "        text-align: right;\n",
       "    }\n",
       "</style>\n",
       "<table border=\"1\" class=\"dataframe\">\n",
       "  <thead>\n",
       "    <tr style=\"text-align: right;\">\n",
       "      <th></th>\n",
       "      <th>image_id</th>\n",
       "      <th>category_id</th>\n",
       "      <th>mold</th>\n",
       "      <th>file_name</th>\n",
       "      <th>fruit_id</th>\n",
       "      <th>fold</th>\n",
       "      <th>stage</th>\n",
       "    </tr>\n",
       "  </thead>\n",
       "  <tbody>\n",
       "    <tr>\n",
       "      <th>0</th>\n",
       "      <td>0</td>\n",
       "      <td>[9, 5]</td>\n",
       "      <td>False</td>\n",
       "      <td>images/0001_A_H_0_A.jpg</td>\n",
       "      <td>0001</td>\n",
       "      <td>3</td>\n",
       "      <td>train</td>\n",
       "    </tr>\n",
       "    <tr>\n",
       "      <th>1</th>\n",
       "      <td>100</td>\n",
       "      <td>[2, 5, 7]</td>\n",
       "      <td>False</td>\n",
       "      <td>images/0003_A_V_150_A.jpg</td>\n",
       "      <td>0003</td>\n",
       "      <td>7</td>\n",
       "      <td>train</td>\n",
       "    </tr>\n",
       "    <tr>\n",
       "      <th>2</th>\n",
       "      <td>101</td>\n",
       "      <td>[9, 2, 5]</td>\n",
       "      <td>False</td>\n",
       "      <td>images/0003_A_V_15_A.jpg</td>\n",
       "      <td>0003</td>\n",
       "      <td>7</td>\n",
       "      <td>train</td>\n",
       "    </tr>\n",
       "    <tr>\n",
       "      <th>3</th>\n",
       "      <td>102</td>\n",
       "      <td>[2, 5, 7]</td>\n",
       "      <td>False</td>\n",
       "      <td>images/0003_A_V_165_A.jpg</td>\n",
       "      <td>0003</td>\n",
       "      <td>7</td>\n",
       "      <td>train</td>\n",
       "    </tr>\n",
       "    <tr>\n",
       "      <th>4</th>\n",
       "      <td>103</td>\n",
       "      <td>[9, 5]</td>\n",
       "      <td>False</td>\n",
       "      <td>images/0003_A_V_30_A.jpg</td>\n",
       "      <td>0003</td>\n",
       "      <td>7</td>\n",
       "      <td>train</td>\n",
       "    </tr>\n",
       "  </tbody>\n",
       "</table>\n",
       "</div>"
      ],
      "text/plain": [
       "   image_id category_id   mold                  file_name fruit_id  fold  \\\n",
       "0         0      [9, 5]  False    images/0001_A_H_0_A.jpg     0001     3   \n",
       "1       100   [2, 5, 7]  False  images/0003_A_V_150_A.jpg     0003     7   \n",
       "2       101   [9, 2, 5]  False   images/0003_A_V_15_A.jpg     0003     7   \n",
       "3       102   [2, 5, 7]  False  images/0003_A_V_165_A.jpg     0003     7   \n",
       "4       103      [9, 5]  False   images/0003_A_V_30_A.jpg     0003     7   \n",
       "\n",
       "   stage  \n",
       "0  train  \n",
       "1  train  \n",
       "2  train  \n",
       "3  train  \n",
       "4  train  "
      ]
     },
     "execution_count": 13,
     "metadata": {},
     "output_type": "execute_result"
    }
   ],
   "source": [
    "df.head()"
   ]
  },
  {
   "cell_type": "markdown",
   "metadata": {},
   "source": [
    "\n",
    "add csv containing processed data split into the artifact"
   ]
  },
  {
   "cell_type": "code",
   "execution_count": 14,
   "metadata": {},
   "outputs": [
    {
     "data": {
      "text/plain": [
       "ArtifactManifestEntry(path='data_split.csv', digest='cKtAzBivv/NN5VRTt0YiFw==', size=161453, local_path='C:\\\\Users\\\\renan\\\\AppData\\\\Local\\\\wandb\\\\wandb\\\\artifacts\\\\staging\\\\tmprfy4ymwn')"
      ]
     },
     "execution_count": 14,
     "metadata": {},
     "output_type": "execute_result"
    }
   ],
   "source": [
    "dataset_artifact.add_file(\"data_split.csv\")"
   ]
  },
  {
   "attachments": {},
   "cell_type": "markdown",
   "metadata": {},
   "source": [
    "log artifact to W&B and finish the run"
   ]
  },
  {
   "cell_type": "code",
   "execution_count": 15,
   "metadata": {},
   "outputs": [
    {
     "data": {
      "text/html": [
       "Waiting for W&B process to finish... <strong style=\"color:green\">(success).</strong>"
      ],
      "text/plain": [
       "<IPython.core.display.HTML object>"
      ]
     },
     "metadata": {},
     "output_type": "display_data"
    },
    {
     "data": {
      "text/html": [
       " View run <strong style=\"color:#cdcd00\">effortless-haze-3</strong> at: <a href='https://wandb.ai/rca-dev/pis_course/runs/idmojgi5' target=\"_blank\">https://wandb.ai/rca-dev/pis_course/runs/idmojgi5</a><br/>Synced 5 W&B file(s), 0 media file(s), 2692 artifact file(s) and 0 other file(s)"
      ],
      "text/plain": [
       "<IPython.core.display.HTML object>"
      ]
     },
     "metadata": {},
     "output_type": "display_data"
    },
    {
     "data": {
      "text/html": [
       "Find logs at: <code>.\\wandb\\run-20231007_164914-idmojgi5\\logs</code>"
      ],
      "text/plain": [
       "<IPython.core.display.HTML object>"
      ]
     },
     "metadata": {},
     "output_type": "display_data"
    }
   ],
   "source": [
    "run.log_artifact(dataset_artifact)\n",
    "run.finish()"
   ]
  }
 ],
 "metadata": {
  "kernelspec": {
   "display_name": "pt",
   "language": "python",
   "name": "python3"
  },
  "language_info": {
   "codemirror_mode": {
    "name": "ipython",
    "version": 3
   },
   "file_extension": ".py",
   "mimetype": "text/x-python",
   "name": "python",
   "nbconvert_exporter": "python",
   "pygments_lexer": "ipython3",
   "version": "3.11.4"
  },
  "orig_nbformat": 4
 },
 "nbformat": 4,
 "nbformat_minor": 2
}
