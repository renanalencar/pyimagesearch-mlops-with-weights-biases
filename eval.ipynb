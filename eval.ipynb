{
 "cells": [
  {
   "cell_type": "code",
   "execution_count": 1,
   "metadata": {},
   "outputs": [],
   "source": [
    "from types import SimpleNamespace\n",
    "import wandb\n",
    "import torch\n",
    "import torch.nn as nn\n",
    "import torchvision.transforms as T\n",
    "from torch.utils.data import DataLoader\n",
    "from fastprogress import progress_bar\n",
    "from torcheval.metrics import (\n",
    "    Mean,\n",
    "    BinaryAccuracy,\n",
    "    BinaryPrecision,\n",
    "    BinaryRecall,\n",
    "    BinaryF1Score,\n",
    ")\n",
    "\n",
    "import params\n",
    "from utils import get_data, set_seed, ImageDataset, load_model, to_device, get_class_name_in_snake_case as snake_case\n",
    "\n",
    "default_cfg = SimpleNamespace(\n",
    "    img_size=256,\n",
    "    bs=16,\n",
    "    seed=42,\n",
    "    epochs=2,\n",
    "    lr=2e-3,\n",
    "    wd=1e-5,\n",
    "    arch=\"resnet18\",\n",
    "    log_model=True,\n",
    "    log_preds=False,\n",
    "    # these are params that are not being changed\n",
    "    image_column=\"file_name\",\n",
    "    target_column=\"mold\",\n",
    "    PROJECT_NAME=params.PROJECT_NAME,\n",
    "    ENTITY=params.ENTITY,\n",
    "    PROCESSED_DATA_AT=params.DATA_AT,\n",
    ")\n"
   ]
  },
  {
   "cell_type": "code",
   "execution_count": 2,
   "metadata": {},
   "outputs": [
    {
     "name": "stderr",
     "output_type": "stream",
     "text": [
      "Failed to detect the name of this notebook, you can set it manually with the WANDB_NOTEBOOK_NAME environment variable to enable code saving.\n",
      "\u001b[34m\u001b[1mwandb\u001b[0m: Currently logged in as: \u001b[33mcapecape\u001b[0m (\u001b[33mwandb_course\u001b[0m). Use \u001b[1m`wandb login --relogin`\u001b[0m to force relogin\n"
     ]
    },
    {
     "data": {
      "text/html": [
       "wandb version 0.14.0 is available!  To upgrade, please run:\n",
       " $ pip install wandb --upgrade"
      ],
      "text/plain": [
       "<IPython.core.display.HTML object>"
      ]
     },
     "metadata": {},
     "output_type": "display_data"
    },
    {
     "data": {
      "text/html": [
       "Tracking run with wandb version 0.13.7"
      ],
      "text/plain": [
       "<IPython.core.display.HTML object>"
      ]
     },
     "metadata": {},
     "output_type": "display_data"
    },
    {
     "data": {
      "text/html": [
       "Run data is saved locally in <code>/home/tcapelle/wandb/edu/pyimagesearch/wandb/run-20230317_180159-2c6owvo5</code>"
      ],
      "text/plain": [
       "<IPython.core.display.HTML object>"
      ]
     },
     "metadata": {},
     "output_type": "display_data"
    },
    {
     "data": {
      "text/html": [
       "Syncing run <strong><a href=\"https://wandb.ai/wandb_course/pyimagesearch/runs/2c6owvo5\" target=\"_blank\">solar-resonance-55</a></strong> to <a href=\"https://wandb.ai/wandb_course/pyimagesearch\" target=\"_blank\">Weights & Biases</a> (<a href=\"https://wandb.me/run\" target=\"_blank\">docs</a>)<br/>"
      ],
      "text/plain": [
       "<IPython.core.display.HTML object>"
      ]
     },
     "metadata": {},
     "output_type": "display_data"
    }
   ],
   "source": [
    "cfg = default_cfg\n",
    "\n",
    "\n",
    "set_seed(cfg.seed)\n",
    "\n",
    "run = wandb.init(\n",
    "    project=cfg.PROJECT_NAME,\n",
    "    entity=cfg.ENTITY,\n",
    "    job_type=\"evaluation\",\n",
    "    tags=[\"staging\"],\n",
    ")"
   ]
  },
  {
   "cell_type": "code",
   "execution_count": 3,
   "metadata": {},
   "outputs": [
    {
     "name": "stderr",
     "output_type": "stream",
     "text": [
      "\u001b[34m\u001b[1mwandb\u001b[0m: Downloading large artifact lemon_data:v0, 137.77MB. 2692 files... \n",
      "\u001b[34m\u001b[1mwandb\u001b[0m:   2692 of 2692 files downloaded.  \n",
      "Done. 0:0:0.4\n"
     ]
    }
   ],
   "source": [
    "\n",
    "wandb.config.update(cfg)\n",
    "\n",
    "df, processed_dataset_dir = get_data(cfg.PROCESSED_DATA_AT, eval=True)\n",
    "\n",
    "test_data = df[df[\"test\"] == True]\n",
    "val_data = df[df[\"test\"] == False]\n",
    "\n",
    "test_transforms = val_transforms = [\n",
    "    T.Resize(cfg.img_size),\n",
    "    T.ToTensor(),\n",
    "]"
   ]
  },
  {
   "cell_type": "code",
   "execution_count": 4,
   "metadata": {},
   "outputs": [],
   "source": [
    "val_dataset = ImageDataset(\n",
    "    val_data,\n",
    "    processed_dataset_dir,\n",
    "    image_column=cfg.image_column,\n",
    "    target_column=cfg.target_column,\n",
    "    transform=val_transforms,\n",
    ")\n",
    "\n",
    "test_dataset = ImageDataset(\n",
    "    test_data,\n",
    "    processed_dataset_dir,\n",
    "    image_column=cfg.image_column,\n",
    "    target_column=cfg.target_column,\n",
    "    transform=val_transforms,\n",
    ")\n",
    "\n",
    "test_dataloader = DataLoader(\n",
    "    test_dataset, batch_size=cfg.bs, shuffle=False, num_workers=4\n",
    ")\n",
    "valid_dataloader = DataLoader(\n",
    "    test_dataset, batch_size=cfg.bs, shuffle=False, num_workers=4\n",
    ")"
   ]
  },
  {
   "cell_type": "code",
   "execution_count": 5,
   "metadata": {},
   "outputs": [
    {
     "name": "stderr",
     "output_type": "stream",
     "text": [
      "\u001b[34m\u001b[1mwandb\u001b[0m: Downloading large artifact Lemon Mold Detector:candidate, 106.19MB. 1 files... \n",
      "\u001b[34m\u001b[1mwandb\u001b[0m:   1 of 1 files downloaded.  \n",
      "Done. 0:0:0.0\n"
     ]
    }
   ],
   "source": [
    "model_artifact_name = \"rca-dev/model-registry/Lemon Detector:staging\"\n",
    "model = load_model(model_artifact_name)\n"
   ]
  },
  {
   "cell_type": "code",
   "execution_count": 6,
   "metadata": {},
   "outputs": [],
   "source": [
    "\n",
    "device = torch.device(\"cuda\" if torch.cuda.is_available() else \"cpu\")\n",
    "model.to(device)\n",
    "\n",
    "def cross_entropy(x, y):\n",
    "    \"A flattened version of nn.BCEWithLogitsLoss\"\n",
    "    loss_func = nn.BCEWithLogitsLoss()\n",
    "    return loss_func(x.squeeze(), y.squeeze().float())\n"
   ]
  },
  {
   "cell_type": "code",
   "execution_count": 7,
   "metadata": {},
   "outputs": [],
   "source": []
  },
  {
   "cell_type": "code",
   "execution_count": 8,
   "metadata": {},
   "outputs": [],
   "source": [
    "metrics = [BinaryAccuracy(device=device),\n",
    "            BinaryPrecision(device=device),\n",
    "            BinaryRecall(device=device),\n",
    "            BinaryF1Score(device=device),\n",
    "            ]\n"
   ]
  },
  {
   "cell_type": "code",
   "execution_count": 9,
   "metadata": {},
   "outputs": [],
   "source": [
    "outputs  = [torch.randn(32) for _ in range(10)]\n",
    "labels = [torch.randint(0, 2, (32,)).bool() for _ in range(10)]"
   ]
  },
  {
   "cell_type": "code",
   "execution_count": 10,
   "metadata": {},
   "outputs": [],
   "source": [
    "for out, lbl in zip(outputs, labels):\n",
    "    for metric in metrics:\n",
    "        metric.update(out, lbl)"
   ]
  },
  {
   "cell_type": "code",
   "execution_count": 11,
   "metadata": {},
   "outputs": [
    {
     "name": "stdout",
     "output_type": "stream",
     "text": [
      "binary_accuracy: 17.600000381469727\n",
      "binary_precision: 0.5483871102333069\n",
      "binary_recall: 0.3333333432674408\n",
      "binary_f1_score: 0.41463416814804077\n"
     ]
    }
   ],
   "source": [
    "for m in metrics:\n",
    "    print(f\"{snake_case(m)}: {m.compute()}\")"
   ]
  },
  {
   "cell_type": "code",
   "execution_count": 17,
   "metadata": {},
   "outputs": [],
   "source": [
    "@torch.inference_mode()\n",
    "def evaluate(loader):\n",
    "    loss_mean = Mean(device=device)\n",
    "    metrics = [BinaryAccuracy(device=device),\n",
    "               BinaryPrecision(device=device),\n",
    "               BinaryRecall(device=device),\n",
    "               BinaryF1Score(device=device),\n",
    "               ]\n",
    "\n",
    "    for b in progress_bar(loader, leave=True, total=len(loader)):\n",
    "        images, labels = to_device(b, device)\n",
    "        outputs = model(images).squeeze()\n",
    "        loss = cross_entropy(outputs, labels)\n",
    "        loss_mean.update(loss)\n",
    "        for metric in metrics:\n",
    "            metric.update(outputs, labels.long())\n",
    "\n",
    "\n",
    "    return loss, metrics"
   ]
  },
  {
   "cell_type": "code",
   "execution_count": 18,
   "metadata": {},
   "outputs": [],
   "source": [
    "\n",
    "valid_loss, valid_metrics = evaluate(valid_dataloader)\n",
    "test_loss, test_metrics   = evaluate(test_dataloader)"
   ]
  },
  {
   "cell_type": "code",
   "execution_count": 20,
   "metadata": {},
   "outputs": [
    {
     "name": "stdout",
     "output_type": "stream",
     "text": [
      "valid_binary_accuracy: 0.9902439117431641\n",
      "valid_binary_precision: 1.0\n",
      "valid_binary_recall: 0.9512194991111755\n",
      "valid_binary_f1_score: 0.9749999642372131\n",
      "test_binary_accuracy: tensor(0.9902, device='cuda:0')\n",
      "test_binary_precision: tensor(1., device='cuda:0')\n",
      "test_binary_recall: tensor(0.9512, device='cuda:0')\n",
      "test_binary_f1_score: tensor(0.9750, device='cuda:0')\n"
     ]
    }
   ],
   "source": [
    "for m in valid_metrics:\n",
    "    print(f\"valid_{snake_case(m)}: {m.compute()}\")\n",
    "    wandb.summary[f\"valid_{snake_case(m)}\"] = m.compute()\n",
    "\n",
    "for m in test_metrics:\n",
    "    print(\"test_\" + snake_case(m) + \": \" + str(m.compute()))\n",
    "    wandb.summary[f\"test_{snake_case(m)}\"] = m.compute()"
   ]
  },
  {
   "cell_type": "code",
   "execution_count": 21,
   "metadata": {},
   "outputs": [
    {
     "data": {
      "text/html": [
       "Waiting for W&B process to finish... <strong style=\"color:green\">(success).</strong>"
      ],
      "text/plain": [
       "<IPython.core.display.HTML object>"
      ]
     },
     "metadata": {},
     "output_type": "display_data"
    },
    {
     "data": {
      "application/vnd.jupyter.widget-view+json": {
       "model_id": "83fad142dba64372a61475036346ffbb",
       "version_major": 2,
       "version_minor": 0
      },
      "text/plain": [
       "VBox(children=(Label(value='0.002 MB of 0.020 MB uploaded (0.000 MB deduped)\\r'), FloatProgress(value=0.112054…"
      ]
     },
     "metadata": {},
     "output_type": "display_data"
    },
    {
     "data": {
      "text/html": [
       "<style>\n",
       "    table.wandb td:nth-child(1) { padding: 0 10px; text-align: left ; width: auto;} td:nth-child(2) {text-align: left ; width: 100%}\n",
       "    .wandb-row { display: flex; flex-direction: row; flex-wrap: wrap; justify-content: flex-start; width: 100% }\n",
       "    .wandb-col { display: flex; flex-direction: column; flex-basis: 100%; flex: 1; padding: 10px; }\n",
       "    </style>\n",
       "<div class=\"wandb-row\"><div class=\"wandb-col\"><h3>Run summary:</h3><br/><table class=\"wandb\"><tr><td>test_binary_accuracy</td><td>0.99024</td></tr><tr><td>test_binary_f1_score</td><td>0.975</td></tr><tr><td>test_binary_precision</td><td>1.0</td></tr><tr><td>test_binary_recall</td><td>0.95122</td></tr><tr><td>valid_binary_accuracy</td><td>0.99024</td></tr><tr><td>valid_binary_f1_score</td><td>0.975</td></tr><tr><td>valid_binary_precision</td><td>1.0</td></tr><tr><td>valid_binary_recall</td><td>0.95122</td></tr></table><br/></div></div>"
      ],
      "text/plain": [
       "<IPython.core.display.HTML object>"
      ]
     },
     "metadata": {},
     "output_type": "display_data"
    },
    {
     "data": {
      "text/html": [
       "Synced <strong style=\"color:#cdcd00\">solar-resonance-55</strong>: <a href=\"https://wandb.ai/wandb_course/pyimagesearch/runs/2c6owvo5\" target=\"_blank\">https://wandb.ai/wandb_course/pyimagesearch/runs/2c6owvo5</a><br/>Synced 6 W&B file(s), 0 media file(s), 0 artifact file(s) and 0 other file(s)"
      ],
      "text/plain": [
       "<IPython.core.display.HTML object>"
      ]
     },
     "metadata": {},
     "output_type": "display_data"
    },
    {
     "data": {
      "text/html": [
       "Find logs at: <code>./wandb/run-20230317_180159-2c6owvo5/logs</code>"
      ],
      "text/plain": [
       "<IPython.core.display.HTML object>"
      ]
     },
     "metadata": {},
     "output_type": "display_data"
    }
   ],
   "source": [
    "run.finish()"
   ]
  },
  {
   "cell_type": "markdown",
   "metadata": {},
   "source": [
    "TorchEval Bug"
   ]
  },
  {
   "cell_type": "code",
   "execution_count": null,
   "metadata": {},
   "outputs": [],
   "source": [
    "metrics = [BinaryAccuracy(device=device),\n",
    "            BinaryPrecision(device=device),\n",
    "            BinaryRecall(device=device),\n",
    "            BinaryF1Score(device=device),\n",
    "            ]\n"
   ]
  },
  {
   "cell_type": "code",
   "execution_count": null,
   "metadata": {},
   "outputs": [],
   "source": [
    "outputs  = [torch.randn(32) for _ in range(10)]\n",
    "labels = [torch.randint(0, 2, (32,)).bool() for _ in range(10)]"
   ]
  },
  {
   "cell_type": "code",
   "execution_count": null,
   "metadata": {},
   "outputs": [],
   "source": [
    "for out, lbl in zip(outputs, labels):\n",
    "    for metric in metrics:\n",
    "        metric.update(out, lbl)"
   ]
  },
  {
   "cell_type": "code",
   "execution_count": null,
   "metadata": {},
   "outputs": [
    {
     "name": "stdout",
     "output_type": "stream",
     "text": [
      "binary_accuracy: 17.600000381469727\n",
      "binary_precision: 0.5483871102333069\n",
      "binary_recall: 0.3333333432674408\n",
      "binary_f1_score: 0.41463416814804077\n"
     ]
    }
   ],
   "source": [
    "for m in metrics:\n",
    "    print(f\"{snake_case(m)}: {m.compute()}\")"
   ]
  },
  {
   "cell_type": "code",
   "execution_count": null,
   "metadata": {},
   "outputs": [],
   "source": []
  }
 ],
 "metadata": {
  "kernelspec": {
   "display_name": "pt",
   "language": "python",
   "name": "python3"
  },
  "language_info": {
   "codemirror_mode": {
    "name": "ipython",
    "version": 3
   },
   "file_extension": ".py",
   "mimetype": "text/x-python",
   "name": "python",
   "nbconvert_exporter": "python",
   "pygments_lexer": "ipython3",
   "version": "3.9.15"
  },
  "orig_nbformat": 4
 },
 "nbformat": 4,
 "nbformat_minor": 2
}
